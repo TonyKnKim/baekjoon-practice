{
 "cells": [
  {
   "cell_type": "code",
   "execution_count": null,
   "metadata": {},
   "outputs": [],
   "source": [
    "a,b=input().split()"
   ]
  },
  {
   "cell_type": "code",
   "execution_count": null,
   "metadata": {},
   "outputs": [],
   "source": [
    "year = int(input())\n",
    "\n",
    "if year%4==0:\n",
    "    if year%100==0:\n",
    "        if year%400==0:\n",
    "            print('1')\n",
    "        else:\n",
    "            print('0')\n",
    "    else:\n",
    "        print('1')"
   ]
  },
  {
   "cell_type": "code",
   "execution_count": null,
   "metadata": {},
   "outputs": [],
   "source": [
    "x,y=int(input()), int(input())"
   ]
  },
  {
   "cell_type": "code",
   "execution_count": null,
   "metadata": {},
   "outputs": [],
   "source": [
    "x,y=int(input()), int(input())\n",
    "\n",
    "if x>0 & y>0:\n",
    "    print(1)\n",
    "elif x<0 & y>0:\n",
    "    print(2)\n",
    "elif x<0 & y<0:\n",
    "    print(3)\n",
    "else:\n",
    "    print(4)"
   ]
  },
  {
   "cell_type": "code",
   "execution_count": null,
   "metadata": {},
   "outputs": [],
   "source": [
    "h=list(range(0,24))\n",
    "m=list(range(0,60))"
   ]
  },
  {
   "cell_type": "code",
   "execution_count": null,
   "metadata": {},
   "outputs": [],
   "source": [
    "h,m=map(int,input().split())\n",
    "x=int(input())\n",
    "print(h,m,x)\n",
    "new_h = (h + (m+x)//60)%24\n",
    "print(new_h, (m+x)%60)"
   ]
  },
  {
   "cell_type": "code",
   "execution_count": null,
   "metadata": {},
   "outputs": [],
   "source": [
    "h,m=map(int,input().split())\n",
    "x=int(input())\n",
    "print(h,m,x)\n",
    "\n",
    "print((h + (m+x)//60)%24, (m+x)%60)"
   ]
  },
  {
   "cell_type": "code",
   "execution_count": null,
   "metadata": {},
   "outputs": [],
   "source": [
    "dice = list(map(int,input().split()))\n",
    "dice"
   ]
  },
  {
   "cell_type": "code",
   "execution_count": null,
   "metadata": {},
   "outputs": [],
   "source": [
    "dice_count={}\n",
    "for i in dice:\n",
    "    try:\n",
    "        dice_count[i]+=1\n",
    "    except:\n",
    "        dice_count[i]=1\n",
    "print(dice_count)"
   ]
  },
  {
   "cell_type": "code",
   "execution_count": null,
   "metadata": {},
   "outputs": [],
   "source": [
    "tmp = [k for k,v in dice_count.items() if max(dice_count.values()) == v]\n",
    "print(tmp)\n",
    "max_dice_value = max(tmp)\n",
    "max_dice_num = dice_count[max_dice_value]"
   ]
  },
  {
   "cell_type": "code",
   "execution_count": null,
   "metadata": {},
   "outputs": [],
   "source": [
    "if max_dice_num ==3:\n",
    "    print(10000+max_dice_value*1000)\n",
    "elif max_dice_num ==2:\n",
    "    print(1000+max_dice_value*100)\n",
    "elif max_dice_num ==1:\n",
    "    print(max_dice_value*100)"
   ]
  },
  {
   "cell_type": "code",
   "execution_count": null,
   "metadata": {},
   "outputs": [],
   "source": [
    "a=3\n",
    "b=5\n",
    "c=4\n",
    "print([c,b+10,b*10+100])"
   ]
  },
  {
   "cell_type": "code",
   "execution_count": null,
   "metadata": {},
   "outputs": [],
   "source": [
    "a,b,c=sorted(map(int,input().split()))\n",
    "print(a,b,c)\n",
    "print([[a,b,c].count(b)-1])\n",
    "print([c,b+10,b*10+100][[a,b,c].count(b)-1]*100)"
   ]
  },
  {
   "cell_type": "code",
   "execution_count": null,
   "metadata": {},
   "outputs": [],
   "source": [
    "[1,2,3][2]*100"
   ]
  },
  {
   "cell_type": "code",
   "execution_count": null,
   "metadata": {},
   "outputs": [],
   "source": [
    "#역슬래쉬와 다음문자가 공백없이 붙어 있을 때, \\까지 출력하기 위해서는 \\를 한번 더 써줘야함\n",
    "#이유: 이스케이프 문자와 혼동을 막기 위함! \n",
    "#쌍따옴표를 출력하고 싶을 때도 \\를 앞에붙여주기로 약속됨.\n",
    "print(\"\\n   \")  #\\n가 이스케이프 문자로 작용함\n",
    "print(\"\\\\n   \\\"\")\n",
    "#하지만 역슬레쉬 하나만 출력하거나 따옴표를 출력할 때는 필요 없다!\n",
    "print(\"'    \\   '\")"
   ]
  },
  {
   "cell_type": "code",
   "execution_count": null,
   "metadata": {},
   "outputs": [],
   "source": [
    "#2739 구구단 문제\n",
    "x=int(input())\n",
    "\n",
    "for i in range(1,10):\n",
    "    mul=x*i\n",
    "    print(\"%d * %d = %d\" %(x,i,mul))"
   ]
  },
  {
   "cell_type": "code",
   "execution_count": null,
   "metadata": {},
   "outputs": [],
   "source": [
    "#10950 A+B-3 문제\n",
    "etr_num=int(input())\n",
    "\n",
    "for i in range(etr_num):\n",
    "    a,b = map(int,input().split())\n",
    "    print(a+b)"
   ]
  },
  {
   "cell_type": "code",
   "execution_count": null,
   "metadata": {},
   "outputs": [],
   "source": [
    "#8393 합 문제\n",
    "#sum 함수를 이용한 답\n",
    "#print(sum(range(int(input())+1)))\n",
    "\n",
    "#삼각수 공식을 활용한 답안\n",
    "n=int(input())\n",
    "print(n*-~n//2)"
   ]
  },
  {
   "cell_type": "code",
   "execution_count": null,
   "metadata": {},
   "outputs": [],
   "source": [
    "#25304 영수증 문제\n",
    "total_price=int(input())\n",
    "total_num=int(input())\n",
    "\n",
    "cal_price=0\n",
    "for i in range(total_num):\n",
    "    pri,num = map(int,input().split())\n",
    "    cal_price = cal_price + pri*num\n",
    "\n",
    "if total_price==cal_price:\n",
    "    print(\"Yes\")\n",
    "else:\n",
    "    print(\"No\")"
   ]
  },
  {
   "cell_type": "code",
   "execution_count": null,
   "metadata": {},
   "outputs": [],
   "source": [
    "#25314번 코딩은 체육과목입니다.\n",
    "num = int(input())//4\n",
    "print(\"long \" * num +\"int\")"
   ]
  },
  {
   "cell_type": "code",
   "execution_count": null,
   "metadata": {},
   "outputs": [],
   "source": [
    "import sys"
   ]
  },
  {
   "cell_type": "code",
   "execution_count": null,
   "metadata": {},
   "outputs": [],
   "source": [
    "#15552번 빠른 A+B 입출력\n",
    "import sys\n",
    "etr_num = int(input())\n",
    "for i in range(etr_num):\n",
    "    a,b = map(int,sys.stdin.readline().split())\n",
    "    print(a+b)"
   ]
  },
  {
   "cell_type": "code",
   "execution_count": null,
   "metadata": {},
   "outputs": [],
   "source": [
    "etr_num= int(input())\n",
    "for i in range(etr_num):\n",
    "    a,b=map(int,input().split())\n",
    "    print(\"Case #%d: %d\"%(i+1,a+b))"
   ]
  },
  {
   "cell_type": "code",
   "execution_count": 3,
   "metadata": {},
   "outputs": [],
   "source": [
    "import sys\n",
    "\n",
    "etr_num= int(sys.stdin.readline().strip())\n",
    "for i in range(etr_num):\n",
    "    a,b=map(int,sys.stdin.readline().split())\n",
    "    print(\"Case #%d: %d\"%(i+1,a+b))"
   ]
  },
  {
   "cell_type": "code",
   "execution_count": 2,
   "metadata": {},
   "outputs": [
    {
     "name": "stdout",
     "output_type": "stream",
     "text": [
      "Case #1: 1 + 3 = 4\n",
      "Case #2: 2 + 5 = 7\n",
      "Case #3: 1 + 1 = 2\n"
     ]
    }
   ],
   "source": [
    "etr_num= int(input())\n",
    "for i in range(etr_num):\n",
    "    a,b=map(int,input().split())\n",
    "    #    print(\"Case #%d: %d + %d = %d\"%(i+1,a,b,a+b))\n",
    "    print(f'Case #{i+1}: {a} + {b} = {a+b}')"
   ]
  },
  {
   "cell_type": "code",
   "execution_count": 5,
   "metadata": {},
   "outputs": [
    {
     "name": "stdout",
     "output_type": "stream",
     "text": [
      "*\n",
      "**\n",
      "***\n"
     ]
    }
   ],
   "source": [
    "for i in range(int(input())):\n",
    "    print('*'*(i+1))"
   ]
  },
  {
   "cell_type": "code",
   "execution_count": 7,
   "metadata": {},
   "outputs": [
    {
     "name": "stdout",
     "output_type": "stream",
     "text": [
      "  *\n",
      " **\n",
      "***\n"
     ]
    }
   ],
   "source": [
    "etr_num = int(input())\n",
    "\n",
    "for i in range(etr_num):\n",
    "    print(str('*'*(i+1)).rjust(etr_num))"
   ]
  },
  {
   "cell_type": "code",
   "execution_count": 11,
   "metadata": {},
   "outputs": [
    {
     "name": "stdout",
     "output_type": "stream",
     "text": [
      "<class 'int'>\n"
     ]
    }
   ],
   "source": [
    "a,b=1,1\n",
    "print(type(a))"
   ]
  },
  {
   "cell_type": "code",
   "execution_count": 14,
   "metadata": {},
   "outputs": [
    {
     "name": "stdout",
     "output_type": "stream",
     "text": [
      "4\n",
      "10\n",
      "0\n"
     ]
    }
   ],
   "source": [
    "a,b= None, None\n",
    "while a != 0 and b != 0:\n",
    "    a,b = map(int,input().split())\n",
    "    print(a+b)"
   ]
  },
  {
   "cell_type": "code",
   "execution_count": 17,
   "metadata": {},
   "outputs": [
    {
     "name": "stdout",
     "output_type": "stream",
     "text": [
      "8\n"
     ]
    }
   ],
   "source": [
    "while True:\n",
    "    a,b = map(int,input().split())\n",
    "    if a==0 and b==0:break\n",
    "    print(a+b)"
   ]
  },
  {
   "cell_type": "code",
   "execution_count": 4,
   "metadata": {},
   "outputs": [
    {
     "name": "stdout",
     "output_type": "stream",
     "text": [
      "1\n"
     ]
    }
   ],
   "source": [
    "num = int(input())\n",
    "\n",
    "x= list(map(int,input().split()))\n",
    "\n",
    "target = int(input())\n",
    "\n",
    "count = 0\n",
    "for i in x:\n",
    "    if i == target:\n",
    "        count += 1\n",
    "\n",
    "print(count)"
   ]
  },
  {
   "cell_type": "code",
   "execution_count": null,
   "metadata": {},
   "outputs": [],
   "source": [
    "num = int(input())\n",
    "\n",
    "x= list(map(int,input().split()))\n",
    "\n",
    "print(x.count(int(input())))"
   ]
  },
  {
   "cell_type": "code",
   "execution_count": 13,
   "metadata": {},
   "outputs": [
    {
     "name": "stdout",
     "output_type": "stream",
     "text": [
      "1 4 2 3\n"
     ]
    }
   ],
   "source": [
    "num, val = map(int,input().split())\n",
    "\n",
    "list_1 = map(int,input().split())\n",
    "\n",
    "#list_2 = [i for i in list_1 if i <= val]\n",
    "#print(list_2)\n",
    "print(*[i for i in list_1 if i < val])"
   ]
  },
  {
   "cell_type": "code",
   "execution_count": 25,
   "metadata": {},
   "outputs": [
    {
     "name": "stdout",
     "output_type": "stream",
     "text": [
      "2 8\n"
     ]
    }
   ],
   "source": [
    "\n",
    "#10818번 최소, 최대\n",
    "num = int(input())\n",
    "list_1 = list(map(int,input().split()))\n",
    "list_1.sort()\n",
    "print(list_1[0], list_1[-1])\n",
    "#print(min(list_1), max(list_1))\n"
   ]
  },
  {
   "cell_type": "code",
   "execution_count": null,
   "metadata": {},
   "outputs": [],
   "source": []
  }
 ],
 "metadata": {
  "kernelspec": {
   "display_name": "Python 3",
   "language": "python",
   "name": "python3"
  },
  "language_info": {
   "codemirror_mode": {
    "name": "ipython",
    "version": 3
   },
   "file_extension": ".py",
   "mimetype": "text/x-python",
   "name": "python",
   "nbconvert_exporter": "python",
   "pygments_lexer": "ipython3",
   "version": "3.11.6"
  },
  "orig_nbformat": 4
 },
 "nbformat": 4,
 "nbformat_minor": 2
}
