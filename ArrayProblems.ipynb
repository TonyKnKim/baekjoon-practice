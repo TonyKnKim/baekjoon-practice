{
 "cells": [
  {
   "cell_type": "code",
   "execution_count": null,
   "metadata": {},
   "outputs": [],
   "source": [
    "# 오늘 고민\n",
    "# 명확한 업무/산업을 정해야하지 않을까?\n",
    "# 방향을 제대로 잡지 않으면 삽질할 수도 있어\n",
    "\n",
    "# ->어떤 업무가 잘 맞을지는 해봐야 알아.\n",
    "# 사이드 프로젝트를 진행하면서 경험해보자.\n",
    "\n",
    "# ->전망 있는 특정 산업이나 회사는 앞으로 공부를 계속해야 할 것 같아.\n",
    "# 하지만 일이 비슷하다면, 내가 개발 역량이 뛰어나다면 어디든 갈 수 있지 않을까?\n",
    "# 현재는 웹/앱 개발쪽이 제일 대우가 좋은 것 같아.\n",
    "# 네이버, 카카오, 쿠팡, 구글, ms ->클라우드컴퓨팅, 데이터분석, 웹/앱 서비스\n",
    "\n",
    "# :하고싶은 일을 찾는 과정인만큼, 즐겁게 공부하자.\n",
    "# 알고리즘 공부 + 사이드 프로젝트 진행(내 관심, 공모전)\n",
    "# +전문 지식 공부(사이드 프로젝트 진행 중 중첩 영역).\n",
    "# 특히 전문 지식 공부는 단순 암기식으로하면 까먹고 제대로 체화시키지 못할 수 있어. 일단 개발 해보면서 익히자."
   ]
  },
  {
   "cell_type": "code",
   "execution_count": 4,
   "metadata": {},
   "outputs": [
    {
     "name": "stdout",
     "output_type": "stream",
     "text": [
      "85\n",
      "8\n"
     ]
    }
   ],
   "source": [
    "num=0\n",
    "highest_num=0\n",
    "highest_val=0\n",
    "\n",
    "while True:\n",
    "    num=num+1\n",
    "    new_val=int(input())\n",
    "\n",
    "    if new_val>highest_val:\n",
    "        highest_val=new_val\n",
    "        highest_num=num\n",
    "\n",
    "    if num == 9:    \n",
    "        print(highest_val)\n",
    "        print(highest_num)\n",
    "        break              \n",
    "\n",
    "# print(*max(zip(map(int,open(0)),range(1,10))))"
   ]
  },
  {
   "cell_type": "code",
   "execution_count": 6,
   "metadata": {},
   "outputs": [
    {
     "ename": "ValueError",
     "evalue": "IPython won't let you open fd=0 by default as it is likely to crash IPython. If you know what you are doing, you can use builtins' open.",
     "output_type": "error",
     "traceback": [
      "\u001b[1;31m---------------------------------------------------------------------------\u001b[0m",
      "\u001b[1;31mValueError\u001b[0m                                Traceback (most recent call last)",
      "\u001b[1;32mc:\\Codes\\JobPrepare\\ArrayProblems.ipynb Cell 3\u001b[0m line \u001b[0;36m1\n\u001b[1;32m----> <a href='vscode-notebook-cell:/c%3A/Codes/JobPrepare/ArrayProblems.ipynb#W3sZmlsZQ%3D%3D?line=0'>1</a>\u001b[0m \u001b[39mprint\u001b[39m(\u001b[39mmax\u001b[39m(\u001b[39mzip\u001b[39m(\u001b[39mmap\u001b[39m(\u001b[39mint\u001b[39m,\u001b[39mopen\u001b[39;49m(\u001b[39m0\u001b[39;49m)),\u001b[39mrange\u001b[39m(\u001b[39m1\u001b[39m,\u001b[39m10\u001b[39m))))\n",
      "File \u001b[1;32m~\\AppData\\Local\\Packages\\PythonSoftwareFoundation.Python.3.11_qbz5n2kfra8p0\\LocalCache\\local-packages\\Python311\\site-packages\\IPython\\core\\interactiveshell.py:280\u001b[0m, in \u001b[0;36m_modified_open\u001b[1;34m(file, *args, **kwargs)\u001b[0m\n\u001b[0;32m    277\u001b[0m \u001b[39m@functools\u001b[39m\u001b[39m.\u001b[39mwraps(io_open)\n\u001b[0;32m    278\u001b[0m \u001b[39mdef\u001b[39;00m \u001b[39m_modified_open\u001b[39m(file, \u001b[39m*\u001b[39margs, \u001b[39m*\u001b[39m\u001b[39m*\u001b[39mkwargs):\n\u001b[0;32m    279\u001b[0m     \u001b[39mif\u001b[39;00m file \u001b[39min\u001b[39;00m {\u001b[39m0\u001b[39m, \u001b[39m1\u001b[39m, \u001b[39m2\u001b[39m}:\n\u001b[1;32m--> 280\u001b[0m         \u001b[39mraise\u001b[39;00m \u001b[39mValueError\u001b[39;00m(\n\u001b[0;32m    281\u001b[0m             \u001b[39mf\u001b[39m\u001b[39m\"\u001b[39m\u001b[39mIPython won\u001b[39m\u001b[39m'\u001b[39m\u001b[39mt let you open fd=\u001b[39m\u001b[39m{\u001b[39;00mfile\u001b[39m}\u001b[39;00m\u001b[39m by default \u001b[39m\u001b[39m\"\u001b[39m\n\u001b[0;32m    282\u001b[0m             \u001b[39m\"\u001b[39m\u001b[39mas it is likely to crash IPython. If you know what you are doing, \u001b[39m\u001b[39m\"\u001b[39m\n\u001b[0;32m    283\u001b[0m             \u001b[39m\"\u001b[39m\u001b[39myou can use builtins\u001b[39m\u001b[39m'\u001b[39m\u001b[39m open.\u001b[39m\u001b[39m\"\u001b[39m\n\u001b[0;32m    284\u001b[0m         )\n\u001b[0;32m    286\u001b[0m     \u001b[39mreturn\u001b[39;00m io_open(file, \u001b[39m*\u001b[39margs, \u001b[39m*\u001b[39m\u001b[39m*\u001b[39mkwargs)\n",
      "\u001b[1;31mValueError\u001b[0m: IPython won't let you open fd=0 by default as it is likely to crash IPython. If you know what you are doing, you can use builtins' open."
     ]
    }
   ],
   "source": [
    "print(max(zip(map(int,open(0)),range(1,10))))"
   ]
  },
  {
   "cell_type": "code",
   "execution_count": 4,
   "metadata": {},
   "outputs": [
    {
     "name": "stdout",
     "output_type": "stream",
     "text": [
      "85 8\n"
     ]
    }
   ],
   "source": [
    "print(*max(zip(map(int,open(\"input.txt\")),range(1,10))))"
   ]
  },
  {
   "cell_type": "code",
   "execution_count": null,
   "metadata": {},
   "outputs": [],
   "source": [
    "#open함수 사용법\n",
    "for i in open(\"input.txt\"):\n",
    "    print(i)\n",
    "\n",
    "print('\\n')\n",
    "print(open(\"input.txt\").read())"
   ]
  },
  {
   "cell_type": "code",
   "execution_count": null,
   "metadata": {},
   "outputs": [],
   "source": [
    "#10810 공넣기 문제\n",
    "# num만큼의 요소를 가지는 빈 리스트 생성 방법 -> [?]*num\n",
    "basket_num, try_num = map(int,input().split())\n",
    "result = [0]*basket_num\n",
    "for i in range(try_num):\n",
    "    start_basket, end_basket, ball_num = map(int,input().split())\n",
    "\n",
    "    result[start_basket-1:end_basket]=[ball_num]*(end_basket-start_basket+1)\n",
    "    print(*result)"
   ]
  },
  {
   "cell_type": "code",
   "execution_count": 65,
   "metadata": {},
   "outputs": [
    {
     "name": "stdout",
     "output_type": "stream",
     "text": [
      "3 1 4 2 5\n"
     ]
    }
   ],
   "source": [
    "# 10813번 리스트 요소 스왑. 파이썬 특징(OOP): temp 없이 요소 서로 교환 가능\n",
    "# open()함수로 전체 텍스트 가져오는 팁. 원하는만큼 선언하고 나머지는 *변수 지정하면 나머지 내용들이 변수로 들어감.\n",
    "basket_num, try_num, *remains= map(int,open(\"input.txt\").read().split())\n",
    "result = list(range(1,basket_num+1))\n",
    "\n",
    "while remains:\n",
    "    left,right,*remains=remains\n",
    "    result[left-1],result[right-1]=result[right-1],result[left-1]\n",
    "print(*result)"
   ]
  },
  {
   "cell_type": "code",
   "execution_count": 126,
   "metadata": {},
   "outputs": [
    {
     "name": "stdout",
     "output_type": "stream",
     "text": [
      "[1, 3, 4, 5, 6, 8, 9, 10, 11, 12, 13, 14, 15, 16, 17, 18, 19, 20, 21, 22, 23, 24, 25, 26, 27, 28, 29, 30]\n"
     ]
    }
   ],
   "source": [
    "ref = list(range(1,31))\n",
    "assigned = list(map(int, open(\"input.txt\").read().split()))\n",
    "\n",
    "#assigned.sort()\n",
    "#print(assigned)\n",
    "\n",
    "for i in assigned:\n",
    "    ref.remove(i)\n",
    "print(ref[0], ref[1], sep='\\n')"
   ]
  },
  {
   "cell_type": "code",
   "execution_count": null,
   "metadata": {},
   "outputs": [],
   "source": []
  }
 ],
 "metadata": {
  "kernelspec": {
   "display_name": "Python 3",
   "language": "python",
   "name": "python3"
  },
  "language_info": {
   "codemirror_mode": {
    "name": "ipython",
    "version": 3
   },
   "file_extension": ".py",
   "mimetype": "text/x-python",
   "name": "python",
   "nbconvert_exporter": "python",
   "pygments_lexer": "ipython3",
   "version": "3.11.6"
  },
  "orig_nbformat": 4
 },
 "nbformat": 4,
 "nbformat_minor": 2
}
