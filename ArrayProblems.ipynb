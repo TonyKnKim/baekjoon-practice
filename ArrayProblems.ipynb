{
 "cells": [
  {
   "cell_type": "code",
   "execution_count": null,
   "metadata": {},
   "outputs": [],
   "source": [
    "오늘 고민\n",
    "명확한 업무/산업을 정해야하지 않을까?\n",
    "방향을 제대로 잡지 않으면 삽질할 수도 있어\n",
    "\n",
    "->어떤 업무가 잘 맞을지는 해봐야 알아.\n",
    "사이드 프로젝트를 진행하면서 경험해보자.\n",
    "\n",
    "->전망 있는 특정 산업이나 회사는 앞으로 공부를 계속해야 할 것 같아.\n",
    "하지만 일이 비슷하다면, 내가 개발 역량이 뛰어나다면 어디든 갈 수 있지 않을까?\n",
    "현재는 웹/앱 개발쪽이 제일 대우가 좋은 것 같아.\n",
    "네이버, 카카오, 쿠팡, 구글, ms ->클라우드컴퓨팅, 데이터분석, 웹/앱 서비스\n",
    "\n",
    ":하고싶은 일을 찾는 과정인만큼, 즐겁게 공부하자.\n",
    "알고리즘 공부 + 사이드 프로젝트 진행(내 관심, 공모전)\n",
    "+전문 지식 공부(사이드 프로젝트 진행 중 중첩 영역).\n",
    "특히 전문 지식 공부는 단순 암기식으로하면 까먹고 제대로 체화시키지 못할 수 있어. 일단 개발 해보면서 익히자."
   ]
  },
  {
   "cell_type": "code",
   "execution_count": 1,
   "metadata": {},
   "outputs": [],
   "source": [
    "num=0\n",
    "highest_val=0\n",
    "while True:\n",
    "    num=num+1\n",
    "    try:\n",
    "        new_val=int(input())\n",
    "        if new_val>highest_val:\n",
    "            highest_val=new_val\n",
    "        print(num,highest_val)        \n",
    "    except:\n",
    "        break"
   ]
  },
  {
   "cell_type": "code",
   "execution_count": null,
   "metadata": {},
   "outputs": [],
   "source": []
  }
 ],
 "metadata": {
  "kernelspec": {
   "display_name": "Python 3",
   "language": "python",
   "name": "python3"
  },
  "language_info": {
   "codemirror_mode": {
    "name": "ipython",
    "version": 3
   },
   "file_extension": ".py",
   "mimetype": "text/x-python",
   "name": "python",
   "nbconvert_exporter": "python",
   "pygments_lexer": "ipython3",
   "version": "3.11.6"
  },
  "orig_nbformat": 4
 },
 "nbformat": 4,
 "nbformat_minor": 2
}
